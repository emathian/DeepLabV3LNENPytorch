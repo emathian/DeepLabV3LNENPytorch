{
 "cells": [
  {
   "cell_type": "code",
   "execution_count": 2,
   "metadata": {},
   "outputs": [],
   "source": [
    "import os\n",
    "import pandas as pd"
   ]
  },
  {
   "cell_type": "code",
   "execution_count": 4,
   "metadata": {},
   "outputs": [],
   "source": [
    "df  = pd.read_table(\"/home/mathiane/SemanticSegmentation/models/research/deeplab/datasets/TumorDetection/dataset/ImageSets/train.txt\", header = None)"
   ]
  },
  {
   "cell_type": "code",
   "execution_count": 5,
   "metadata": {},
   "outputs": [],
   "source": [
    "list_picts = df.iloc[:,0]"
   ]
  },
  {
   "cell_type": "code",
   "execution_count": 6,
   "metadata": {},
   "outputs": [
    {
     "data": {
      "text/plain": [
       "0                TNE0002_0_0\n",
       "1              TNE0002_0_512\n",
       "2             TNE0002_0_1024\n",
       "3             TNE0002_0_1536\n",
       "4             TNE0002_0_2048\n",
       "                ...         \n",
       "38599    TNE1438_14334_10752\n",
       "38600    TNE1438_14334_11264\n",
       "38601    TNE1438_14334_11776\n",
       "38602    TNE1438_14334_12288\n",
       "38603    TNE1438_14334_12439\n",
       "Name: 0, Length: 38604, dtype: object"
      ]
     },
     "execution_count": 6,
     "metadata": {},
     "output_type": "execute_result"
    }
   ],
   "source": [
    "list_picts"
   ]
  },
  {
   "cell_type": "code",
   "execution_count": 17,
   "metadata": {},
   "outputs": [
    {
     "name": "stdout",
     "output_type": "stream",
     "text": [
      "----------------- Options ---------------\n",
      "               batch_size: 1                             \n",
      "                    beta1: 0.5                           \n",
      "          checkpoints_dir: ./checkpoints                 \n",
      "           continue_train: False                         \n",
      "                crop_size: 256                           \n",
      "                 dataroot: /home/mathiane/SemanticSegmentation/models/research/deeplab/datasets/TumorDetection/dataset\t[default: None]\n",
      "             dataset_mode: segmentation                  \t[default: unaligned]\n",
      "                direction: AtoB                          \n",
      "              display_env: main                          \n",
      "             display_freq: 400                           \n",
      "               display_id: 1                             \n",
      "            display_ncols: 4                             \n",
      "             display_port: 8097                          \n",
      "           display_server: http://localhost              \n",
      "          display_winsize: 256                           \n",
      "                    epoch: latest                        \n",
      "              epoch_count: 1                             \n",
      "                 gan_mode: lsgan                         \n",
      "                  gpu_ids: 0                             \n",
      "                init_gain: 0.02                          \n",
      "                init_type: normal                        \n",
      "                 input_nc: 3                             \n",
      "                  isTrain: True                          \t[default: None]\n",
      "                 lambda_A: 10.0                          \n",
      "                 lambda_B: 10.0                          \n",
      "          lambda_identity: 0.5                           \n",
      "                load_iter: 0                             \t[default: 0]\n",
      "                load_size: 286                           \n",
      "                       lr: 0.0002                        \n",
      "           lr_decay_iters: 50                            \n",
      "                lr_policy: linear                        \n",
      "         max_dataset_size: inf                           \n",
      "                    model: cycle_gan                     \n",
      "                 n_epochs: 100                           \n",
      "           n_epochs_decay: 100                           \n",
      "               n_layers_D: 3                             \n",
      "                     name: TypicalAtypical               \t[default: experiment_name]\n",
      "                      ndf: 64                            \n",
      "                     netD: basic                         \n",
      "                     netG: resnet_9blocks                \n",
      "                      ngf: 64                            \n",
      "               no_dropout: True                          \n",
      "                  no_flip: True                          \t[default: False]\n",
      "                  no_html: False                         \n",
      "                     norm: instance                      \n",
      "              num_threads: 4                             \n",
      "                output_nc: 3                             \n",
      "                    phase: train                         \n",
      "                pool_size: 50                            \n",
      "               preprocess: any                           \t[default: resize_and_crop]\n",
      "               print_freq: 100                           \n",
      "             save_by_iter: False                         \n",
      "          save_epoch_freq: 5                             \n",
      "         save_latest_freq: 5000                          \n",
      "           serial_batches: False                         \n",
      "                   suffix:                               \n",
      "         update_html_freq: 1000                          \n",
      "                  verbose: False                         \n",
      "----------------- End -------------------\n",
      "^C\n",
      "Traceback (most recent call last):\n",
      "  File \"train_dev.py\", line 29, in <module>\n",
      "    dataset = create_dataset(opt)  # create a dataset given opt.dataset_mode and other options\n",
      "  File \"/home/mathiane/pytorch-CycleGAN-and-pix2pix/data/__init__.py\", line 57, in create_dataset\n",
      "    data_loader = CustomDatasetDataLoader(opt)\n",
      "  File \"/home/mathiane/pytorch-CycleGAN-and-pix2pix/data/__init__.py\", line 73, in __init__\n",
      "    self.dataset = dataset_class(opt)\n",
      "  File \"/home/mathiane/pytorch-CycleGAN-and-pix2pix/data/segmentation_dataset.py\", line 35, in __init__\n",
      "    self.images_path, self.masks_path = make_dataset_from_img_list(self.path_to_imgs_file_list, opt.dataroot, opt.max_dataset_size) \n",
      "  File \"/home/mathiane/pytorch-CycleGAN-and-pix2pix/data/image_folder.py\", line 48, in make_dataset_from_img_list\n",
      "    if Imgname in os.listdir(path_to_img_folder) and Maskname in os.listdir(path_to_mask_folder):\n",
      "KeyboardInterrupt\n"
     ]
    }
   ],
   "source": [
    "!python train_dev.py --dataroot /home/mathiane/SemanticSegmentation/models/research/deeplab/datasets/TumorDetection/dataset --dataset_mode segmentation --preprocess any --no_flip   --name TypicalAtypical --model segmentation_model.py"
   ]
  },
  {
   "cell_type": "code",
   "execution_count": null,
   "metadata": {},
   "outputs": [],
   "source": []
  },
  {
   "cell_type": "code",
   "execution_count": null,
   "metadata": {},
   "outputs": [],
   "source": []
  }
 ],
 "metadata": {
  "kernelspec": {
   "display_name": "Python 3",
   "language": "python",
   "name": "python3"
  },
  "language_info": {
   "codemirror_mode": {
    "name": "ipython",
    "version": 3
   },
   "file_extension": ".py",
   "mimetype": "text/x-python",
   "name": "python",
   "nbconvert_exporter": "python",
   "pygments_lexer": "ipython3",
   "version": "3.8.5"
  }
 },
 "nbformat": 4,
 "nbformat_minor": 4
}
